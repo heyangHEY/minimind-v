{
 "cells": [
  {
   "cell_type": "code",
   "execution_count": 1,
   "metadata": {},
   "outputs": [
    {
     "name": "stdout",
     "output_type": "stream",
     "text": [
      "Name: flash_attn\n",
      "Version: 2.7.4.post1\n",
      "Summary: Flash Attention: Fast and Memory-Efficient Exact Attention\n",
      "Home-page: https://github.com/Dao-AILab/flash-attention\n",
      "Author: Tri Dao\n",
      "Author-email: tri@tridao.me\n",
      "License: \n",
      "Location: /home/hey/anaconda3/envs/minimind/lib/python3.10/site-packages\n",
      "Requires: einops, torch\n",
      "Required-by: \n"
     ]
    }
   ],
   "source": [
    "! pip show flash-attn  "
   ]
  },
  {
   "cell_type": "markdown",
   "metadata": {},
   "source": []
  },
  {
   "cell_type": "code",
   "execution_count": 2,
   "metadata": {},
   "outputs": [
    {
     "name": "stdout",
     "output_type": "stream",
     "text": [
      "Flash Attention 2支持已启用！\n"
     ]
    }
   ],
   "source": [
    "# 是否使用Flash Attention\n",
    "try:\n",
    "    from flash_attn import flash_attn_func\n",
    "    print(\"Flash Attention 2支持已启用！\")\n",
    "except ImportError:\n",
    "    print(\"未找到flash-attn库，请先安装。\")"
   ]
  },
  {
   "cell_type": "code",
   "execution_count": 3,
   "metadata": {},
   "outputs": [
    {
     "name": "stdout",
     "output_type": "stream",
     "text": [
      "torch.Size([2, 128, 8, 64])\n"
     ]
    }
   ],
   "source": [
    "import torch\n",
    "from flash_attn import flash_attn_func\n",
    "\n",
    "# 模拟输入（形状：batch_size, seq_len, num_heads, head_dim）\n",
    "q = torch.randn(2, 128, 8, 64, device='cuda', dtype=torch.float16)\n",
    "k = torch.randn(2, 128, 8, 64, device='cuda', dtype=torch.float16)\n",
    "v = torch.randn(2, 128, 8, 64, device='cuda', dtype=torch.float16)\n",
    "\n",
    "# 调用Flash Attention 2\n",
    "output = flash_attn_func(q, k, v, causal=True)\n",
    "print(output.shape)  # 应输出torch.Size([2, 128, 8, 64])"
   ]
  },
  {
   "cell_type": "code",
   "execution_count": 6,
   "metadata": {},
   "outputs": [],
   "source": [
    "from transformers import AutoModel\n",
    "model = AutoModel.from_pretrained(\n",
    "    \"google/siglip-so400m-patch14-224\", \n",
    "    use_flash_attention_2=True,\n",
    "    device_map=\"cuda\"\n",
    ")\n",
    "# 若未安装flash-attn，此处会抛出错误"
   ]
  },
  {
   "cell_type": "code",
   "execution_count": 12,
   "metadata": {},
   "outputs": [
    {
     "name": "stdout",
     "output_type": "stream",
     "text": [
      "torch.Size([2, 128, 8, 64])\n"
     ]
    }
   ],
   "source": [
    "import torch.nn.functional as F\n",
    "import torch\n",
    "\n",
    "# 模拟输入（形状：batch_size, seq_len, num_heads, head_dim）\n",
    "q = torch.randn(2, 128, 8, 64, device='cuda', dtype=torch.float16)\n",
    "k = torch.randn(2, 128, 8, 64, device='cuda', dtype=torch.float16)\n",
    "v = torch.randn(2, 128, 8, 64, device='cuda', dtype=torch.float16)\n",
    "\n",
    "with torch.backends.cuda.sdp_kernel(enable_flash=True, enable_math=False, enable_mem_efficient=False):\n",
    "    output = F.scaled_dot_product_attention(\n",
    "        q, k, v, \n",
    "        is_causal=True,\n",
    "    )\n",
    "    print(output.shape)  # 输出如 \"flash_attention\" 或 \"memory_efficient\""
   ]
  },
  {
   "cell_type": "code",
   "execution_count": null,
   "metadata": {},
   "outputs": [],
   "source": []
  }
 ],
 "metadata": {
  "kernelspec": {
   "display_name": "minimind",
   "language": "python",
   "name": "python3"
  },
  "language_info": {
   "codemirror_mode": {
    "name": "ipython",
    "version": 3
   },
   "file_extension": ".py",
   "mimetype": "text/x-python",
   "name": "python",
   "nbconvert_exporter": "python",
   "pygments_lexer": "ipython3",
   "version": "3.10.16"
  }
 },
 "nbformat": 4,
 "nbformat_minor": 2
}
